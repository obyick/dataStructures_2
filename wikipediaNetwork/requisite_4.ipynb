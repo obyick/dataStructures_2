{
    "cells": [
        {
            "cell_type": "markdown",
            "metadata": {},
            "source": [
                "# Requisite 4"
            ]
        },
        {
            "cell_type": "markdown",
            "metadata": {},
            "source": [
                "### Importing NetworkX to creating, manipulating, and analysing complex networks and graphs"
            ]
        },
        {
            "cell_type": "code",
            "execution_count": 1,
            "metadata": {},
            "outputs": [],
            "source": [
                "import networkx as nx"
            ]
        },
        {
            "cell_type": "markdown",
            "metadata": {},
            "source": [
                "### Reading GraphML file to load pre-existing graph structures"
            ]
        },
        {
            "cell_type": "code",
            "execution_count": 2,
            "metadata": {},
            "outputs": [],
            "source": [
                "compose_network = nx.read_graphml('Assets/Graphs/Compose_Network.graphml')"
            ]
        },
        {
            "cell_type": "markdown",
            "metadata": {},
            "source": [
                "### Extract unique core numbers from the k-core decomposition of the network"
            ]
        },
        {
            "cell_type": "code",
            "execution_count": 3,
            "metadata": {},
            "outputs": [
                {
                    "data": {
                        "text/plain": [
                            "{2,\n",
                            " 3,\n",
                            " 4,\n",
                            " 5,\n",
                            " 6,\n",
                            " 7,\n",
                            " 8,\n",
                            " 9,\n",
                            " 10,\n",
                            " 11,\n",
                            " 12,\n",
                            " 13,\n",
                            " 14,\n",
                            " 15,\n",
                            " 16,\n",
                            " 17,\n",
                            " 18,\n",
                            " 19,\n",
                            " 20,\n",
                            " 21,\n",
                            " 22,\n",
                            " 23}"
                        ]
                    },
                    "execution_count": 3,
                    "metadata": {},
                    "output_type": "execute_result"
                }
            ],
            "source": [
                "set([v for k,v in nx.core_number(compose_network).items()])"
            ]
        }
    ],
    "metadata": {
        "kernelspec": {
            "display_name": "Python 3",
            "language": "python",
            "name": "python3"
        },
        "language_info": {
            "codemirror_mode": {
                "name": "ipython",
                "version": 3
            },
            "file_extension": ".py",
            "mimetype": "text/x-python",
            "name": "python",
            "nbconvert_exporter": "python",
            "pygments_lexer": "ipython3",
            "version": "3.12.5"
        }
    },
    "nbformat": 4,
    "nbformat_minor": 2
}
