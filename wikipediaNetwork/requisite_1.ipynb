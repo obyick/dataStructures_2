{
    "cells": [
        {
            "cell_type": "markdown",
            "metadata": {},
            "source": [
                "# Requisite 1"
            ]
        },
        {
            "cell_type": "markdown",
            "metadata": {},
            "source": [
                "### Importing `networkx` library"
            ]
        },
        {
            "cell_type": "code",
            "execution_count": 1,
            "metadata": {},
            "outputs": [],
            "source": [
                "import networkx as nx"
            ]
        },
        {
            "cell_type": "markdown",
            "metadata": {},
            "source": [
                "### Reading `GraphML` files for three distinct plant species"
            ]
        },
        {
            "cell_type": "code",
            "execution_count": null,
            "metadata": {},
            "outputs": [],
            "source": [
                "dactylorhiza_sambucina = nx.read_graphml('Assets/Graphs/Dactylorhiza_Sambucina.graphml')\n",
                "rinorea_niccolifera = nx.read_graphml('Assets/Graphs/Rinorea_Niccolifera.graphml')\n",
                "welwitschia_mirabilis = nx.read_graphml('Assets/Graphs/Welwitschia_Mirabilis.graphml')"
            ]
        },
        {
            "cell_type": "markdown",
            "metadata": {},
            "source": [
                "### Printing basic information about each individual graph\n",
                "- Nodes representing entities\n",
                "- Edges representing relationships"
            ]
        },
        {
            "cell_type": "code",
            "execution_count": 2,
            "metadata": {},
            "outputs": [
                {
                    "name": "stdout",
                    "output_type": "stream",
                    "text": [
                        "Dactylorhiza_Sambucina\n",
                        "    Nodes: 2019\n",
                        "    Edges: 5924\n",
                        "\n",
                        "Rinorea_Niccolifera\n",
                        "    Nodes: 748\n",
                        "    Edges: 2144\n",
                        "\n",
                        "Welwitschia_Mirabilis\n",
                        "    Nodes: 3739\n",
                        "    Edges: 11922\n"
                    ]
                }
            ],
            "source": [
                "print(\"Dactylorhiza_Sambucina\\n    Nodes: {}\\n    Edges: {}\".format(len(dactylorhiza_sambucina), nx.number_of_edges(dactylorhiza_sambucina)))\n",
                "print(\"\\nRinorea_Niccolifera\\n    Nodes: {}\\n    Edges: {}\".format(len(rinorea_niccolifera), nx.number_of_edges(rinorea_niccolifera)))\n",
                "print(\"\\nWelwitschia_Mirabilis\\n    Nodes: {}\\n    Edges: {}\".format(len(welwitschia_mirabilis), nx.number_of_edges(welwitschia_mirabilis)))"
            ]
        },
        {
            "cell_type": "markdown",
            "metadata": {},
            "source": [
                "### Combining the three separate networks into a single using the `compose` function"
            ]
        },
        {
            "cell_type": "code",
            "execution_count": null,
            "metadata": {},
            "outputs": [],
            "source": [
                "aux = nx.compose(dactylorhiza_sambucina, rinorea_niccolifera)   # Combine the first two species networks\n",
                "compose_network = nx.compose(aux, welwitschia_mirabilis)        # Combine the result with the third species network"
            ]
        },
        {
            "cell_type": "markdown",
            "metadata": {},
            "source": [
                "### Saving the `composed network` back to a `GraphML` file to be stored and reused for future analysis or visualisation\n",
                "- Nodes representing entities\n",
                "- Edges representing relationships"
            ]
        },
        {
            "cell_type": "code",
            "execution_count": 3,
            "metadata": {},
            "outputs": [
                {
                    "name": "stdout",
                    "output_type": "stream",
                    "text": [
                        "Compose_Network\n",
                        "    Nodes: 4807\n",
                        "    Edges: 16976\n"
                    ]
                }
            ],
            "source": [
                "# Saving the composed network and printing the summary\n",
                "nx.write_graphml(compose_network, \"Assets/Graphs/Compose_Network.graphml\")\n",
                "print(\"Compose_Network\\n    Nodes: {}\\n    Edges: {}\".format(len(compose_network), nx.number_of_edges(compose_network)))"
            ]
        }
    ],
    "metadata": {
        "kernelspec": {
            "display_name": "Python 3",
            "language": "python",
            "name": "python3"
        },
        "language_info": {
            "codemirror_mode": {
                "name": "ipython",
                "version": 3
            },
            "file_extension": ".py",
            "mimetype": "text/x-python",
            "name": "python",
            "nbconvert_exporter": "python",
            "pygments_lexer": "ipython3",
            "version": "3.12.5"
        }
    },
    "nbformat": 4,
    "nbformat_minor": 2
}
