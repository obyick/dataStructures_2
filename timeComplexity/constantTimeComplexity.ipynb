{
  "cells": [
    {
      "cell_type": "markdown",
      "metadata": {
        "id": "3_5SVkc1D_kF"
      },
      "source": [
        "# Constant Time Complexity"
      ]
    },
    {
      "cell_type": "markdown",
      "metadata": {
        "id": "s15C9RH5D_kG"
      },
      "source": [
        "## Libraries"
      ]
    },
    {
      "cell_type": "code",
      "execution_count": 1,
      "metadata": {
        "id": "935nJF3oD_kG"
      },
      "outputs": [],
      "source": [
        "import time                      # time module for time functions\n",
        "import random                    # random module for generating random numbers\n",
        "import matplotlib.pyplot as plt  # pyplot module for data visualization\n",
        "import string                    # string-related operations"
      ]
    },
    {
      "cell_type": "markdown",
      "metadata": {
        "id": "6JKvVknwD_kH"
      },
      "source": [
        "___\n",
        "## Instructions .1\n",
        "\n",
        "### A function that computes the average value of a list is provided for you. Your task is to analyze its time complexity.\n",
        "\n",
        "- Count how many times each line is executed in the worst case.\n",
        "- Add the values together and group the terms together to obtain an expression for `time(N)` where N is the length of the input list.\n",
        "- Assign to a list named coefficients the constant coefficients of the terms of `time(N)` from highest to the lowest. The coefficient of a non-existing term is 0."
      ]
    },
    {
      "cell_type": "code",
      "execution_count": 2,
      "metadata": {
        "id": "sV7Y4v5XD_kH"
      },
      "outputs": [],
      "source": [
        "def average(values):\n",
        "    average = 0                   # c1\n",
        "    for value in values:          # c2\n",
        "        average += value          # c3\n",
        "    return average / len(values)  # c4"
      ]
    },
    {
      "cell_type": "markdown",
      "metadata": {
        "id": "7FlYpYylD_kH"
      },
      "source": [
        "### Worst-case occurrences for each line of the function:\n",
        "- _c1_ = 1\n",
        "- _c2_ = n\n",
        "- _c3_ = n\n",
        "- _c4_ = 1\n",
        "\n",
        "### Thus, the equation representing the time complexity of this function is:\n",
        "- _`c1 + (c2n) + (c3n) + c4`_ = _`c1 + c4 + n(c2 + c3)`_\n",
        "\n",
        "### Therefore:\n",
        "- _Coefficients = `[2, 2]`_\n",
        "- _Order = `O(N)`_\n",
        "\n",
        "### Considering:\n",
        "- _c1_ + _c4_ = `β`\n",
        "- _c2_ + _c3_ = `α`\n",
        "\n",
        "### The model can be expressed as:\n",
        "- _`αn + β`_"
      ]
    },
    {
      "cell_type": "markdown",
      "metadata": {
        "id": "zoD0jxMaD_kH"
      },
      "source": [
        "___\n",
        "## Instructions .2\n",
        "\n",
        "### Three functions are provided for you. For each of them, assign it the boolean `True` if `function1()` has `O(1)` complexity and `False` otherwise."
      ]
    },
    {
      "cell_type": "code",
      "execution_count": 3,
      "metadata": {
        "id": "XYXk2hN4D_kH"
      },
      "outputs": [],
      "source": [
        "def function1(N):\n",
        "    for i in range(N):\n",
        "        print(i)\n",
        "\n",
        "def function2():\n",
        "    for i in range(100000):\n",
        "        print(i)\n",
        "\n",
        "def function3(N):\n",
        "    for i in range(100000):\n",
        "        print(i)\n",
        "\n",
        "constant1 = False\n",
        "constant2 = True\n",
        "constant3 = True"
      ]
    },
    {
      "cell_type": "markdown",
      "metadata": {
        "id": "0S7aR_61D_kI"
      },
      "source": [
        "___\n",
        "## Instructions .3\n",
        "\n",
        "### Your goal is to analyze the time complexity of the provided `average()` function. This function uses two other functions `sum_values()` and `num_values()` that are also provided. A partial time complexity analysis is provided.\n",
        "\n",
        "- Perform a time complexity analysis of the `sum_values()` function by completing the empty comments in front of the lines, giving the line complexity. Use `N` to represent the length of values and omit the `O`.\n",
        "- Perform a time complexity analysis of the `num_values()` function by completing the empty comments in front of the lines, giving the line complexity. Use `N` to represent the length of values and omit the `O`.\n",
        "- Use the results from the two previous steps to perform a time complexity analysis of the `average()` function by completing the empty comments in front of the lines, giving the line complexity. Use `N` to represent the length of values and omit the `O`."
      ]
    },
    {
      "cell_type": "code",
      "execution_count": 4,
      "metadata": {
        "id": "pSEgjT2ZD_kI"
      },
      "outputs": [],
      "source": [
        "def sum_values(values):\n",
        "    total = 0            # 1\n",
        "    for value in values: # N\n",
        "        total += value   # N\n",
        "    return total         # 1\n",
        "\n",
        "def num_values(values):\n",
        "    total = 0            # 1\n",
        "    for _ in values:     # N\n",
        "        total += 1       # N\n",
        "    return total         # 1\n",
        "\n",
        "def average(values):\n",
        "    value_sum = sum_values(values)  # N\n",
        "    num_values = num_values(values) # N\n",
        "    return value_sum / num_values   # 1"
      ]
    },
    {
      "cell_type": "markdown",
      "metadata": {
        "id": "ZRA8fxd9D_kI"
      },
      "source": [
        "___\n",
        "## Instructions .4\n",
        "\n",
        "### We provide you six lists created using list comprehensions and five possible time complexities.\n",
        "\n",
        "### Your goal is to identify the correct complexity of creating each list as a function of `N` and `M`, and assign to it the correct complexity for creating list, out of the five proposed complexities."
      ]
    },
    {
      "cell_type": "code",
      "execution_count": 5,
      "metadata": {
        "id": "_HEGfwZbD_kI"
      },
      "outputs": [],
      "source": [
        "N = 10\n",
        "M = 20\n",
        "\n",
        "list1 = [_ for i in range(0)]\n",
        "list2 = [i for i in range(3)]\n",
        "list3 = [i * i for i in range(M)]\n",
        "list4 = [[i + j for j in range(M)] for i in range(N)]\n",
        "list5 = [min(list4[i]) for i in range(N)]\n",
        "list6 = [i for i in range(1000)]"
      ]
    },
    {
      "cell_type": "markdown",
      "metadata": {
        "id": "IsOGFibsD_kI"
      },
      "source": [
        "### Complexity\n",
        "\n",
        "- _complexity1 = 'O(1)'_\n",
        "- _complexity2 = 'O(N)'_\n",
        "- _complexity3 = 'O(M)'_\n",
        "- _complexity4 = 'O(N + M)'_\n",
        "- _complexity5 = 'O(N • M)'_\n",
        "\n",
        "### Correct complexity for each list\n",
        "\n",
        "- _answer1 = complexity1_\n",
        "- _answer2 = complexity1_\n",
        "- _answer3 = complexity3_\n",
        "- _answer4 = complexity5_\n",
        "- _answer5 = complexity5_\n",
        "- _answer6 = complexity1_"
      ]
    },
    {
      "cell_type": "markdown",
      "metadata": {
        "id": "DWqn1e9KD_kI"
      },
      "source": [
        "___\n",
        "## Instructions .5\n",
        "\n",
        "### Your task is to run this experiment from a range of values of `N` and plot the results to see how this is growing.\n",
        "\n",
        "- Initialize an empty list named costs.\n",
        "- Use a for loop over `range(5000)` using a variable named `N`. For each value of `N`:\n",
        "    - Call `append_N_list_cost()` by passing the current value of `N` as an argument. Assign the result to a variable named cost.\n",
        "    - Append the result to the costs list that you've created.\n",
        "- Use the provided `plot_costs()` function to plot the costs list. We will come back to this plot in the next section."
      ]
    },
    {
      "cell_type": "code",
      "execution_count": 6,
      "metadata": {
        "colab": {
          "base_uri": "https://localhost:8080/",
          "height": 449
        },
        "id": "fnjqM17iD_kI",
        "outputId": "921f2207-c4f3-45c7-c64e-3f066ab70505"
      },
      "outputs": [
        {
          "output_type": "display_data",
          "data": {
            "text/plain": [
              "<Figure size 640x480 with 1 Axes>"
            ],
            "image/png": "[encoded data removed]"
          },
          "metadata": {}
        }
      ],
      "source": [
        "def plot_costs(times):\n",
        "    plt.plot(times, label='price de anexação')\n",
        "    plt.ylabel('Price')\n",
        "    plt.xlabel('N')\n",
        "    plt.show()\n",
        "\n",
        "def append_cost(array_length, list_length):\n",
        "    if array_length == list_length:\n",
        "        return array_length\n",
        "    return 1\n",
        "\n",
        "def append_N_list_cost(N):\n",
        "    array_length = 1\n",
        "    list_length = 0\n",
        "    total_cost = 0\n",
        "    for i in range(N):\n",
        "        cost = append_cost(array_length, list_length)\n",
        "        total_cost += cost\n",
        "        if array_length == list_length:\n",
        "            array_length *= 2\n",
        "        list_length += 1\n",
        "    return total_cost\n",
        "\n",
        "costs = []\n",
        "\n",
        "for n in range(5000):\n",
        "    costs.append(append_N_list_cost(n))\n",
        "\n",
        "plot_costs(costs)"
      ]
    },
    {
      "cell_type": "markdown",
      "metadata": {
        "id": "jEk_xQPJD_kJ"
      },
      "source": [
        "___\n",
        "## Instructions .6\n",
        "\n",
        "### Two functions are provided for you. The `add_with_append()` creates a list using the `list.append()` method, while `add_with_insert()` uses `list.insert()`. Your task is to time both functions to see that appending is much more efficient than inserting.\n",
        "\n",
        "- Time the execution of `add_with_append(50000)`. To do so:\n",
        "    - Compute the time before calling the function with the `time.time()` function. Assign the result to a variable named start.\n",
        "    - Compute the time after calling the function with the `time.time()` function. Assign the result to a variable named end.\n",
        "    - Compute the execution time by subtracting start from end. Assign the result to time_append.\n",
        "- Perform the same steps to time `add_with_insert(50000)`. Assign the result to time_insert.\n",
        "- Print both times and observe which one was faster."
      ]
    },
    {
      "cell_type": "code",
      "execution_count": 7,
      "metadata": {
        "colab": {
          "base_uri": "https://localhost:8080/"
        },
        "id": "euHnI_BTD_kJ",
        "outputId": "f5dc320c-1f36-4ede-ffaa-9683236b1957"
      },
      "outputs": [
        {
          "output_type": "stream",
          "name": "stdout",
          "text": [
            "Append runtime: 0.02384185791015625\n",
            "Insert runtime: 2.174872636795044\n"
          ]
        }
      ],
      "source": [
        "def add_with_append(N):\n",
        "    values = []\n",
        "    for i in range(N):\n",
        "        values.append(i)\n",
        "    return values\n",
        "\n",
        "def add_with_insert(N):\n",
        "    values = []\n",
        "    for i in range(N):\n",
        "        values.insert(0, i)\n",
        "    return values\n",
        "\n",
        "appendStart = time.time()\n",
        "add_with_append(50000)\n",
        "print(f'Append runtime: {time.time() - appendStart}')\n",
        "\n",
        "insertStart = time.time()\n",
        "add_with_insert(50000)\n",
        "print(f'Insert runtime: {time.time() - insertStart}')"
      ]
    },
    {
      "cell_type": "markdown",
      "metadata": {
        "id": "-8fiV3esD_kJ"
      },
      "source": [
        "___\n",
        "## Instructions .7\n",
        "\n",
        "### The variable pairs contains a list of pairs of integers with an increasing number of digits. Each pair contains two integers with the same number of digits. In the first pair, the numbers will have 1 digit, in the second pair, they will have 2 digits and so on.\n",
        "\n",
        "### The idea of this experiment is to measure the time required to multiply each pair of integers and use the provided `plot_times()` function to plot these times to see that they are indeed increasing.\n",
        "\n",
        "- Run the provided code to print the first few pairs. This is just so that you see the first 5 elements of pairs.\n",
        "- Import the time module.\n",
        "- Initialize and empty list named times.\n",
        "- Use a for loop to iterate over all pairs contained in the pairs list. For each pair `x`, `y` do:\n",
        "    - Use the `time.time()` to get the time before the multiplication.\n",
        "    - Multiply `x` and `y` together.\n",
        "    - Use the `time.time()` to get the time after the multiplication.\n",
        "    - Add the elapsed time end - start to the times list.\n",
        "- Use the provided `plot_times()` function to plot the times list."
      ]
    },
    {
      "cell_type": "code",
      "execution_count": 8,
      "metadata": {
        "colab": {
          "base_uri": "https://localhost:8080/",
          "height": 466
        },
        "id": "6_BLkiOAD_kJ",
        "outputId": "8e7eedec-2c1d-4011-8804-5944d9493c57"
      },
      "outputs": [
        {
          "output_type": "stream",
          "name": "stdout",
          "text": [
            "[(5, 5), (21, 37), (445, 371), (4039, 5947), (40374, 49728)]\n"
          ]
        },
        {
          "output_type": "display_data",
          "data": {
            "text/plain": [
              "<Figure size 640x480 with 1 Axes>"
            ],
            "image/png": "[encoded data removed]"
          },
          "metadata": {}
        }
      ],
      "source": [
        "def generate_list(k):\n",
        "    items = []\n",
        "    count = 1\n",
        "    while len(items) < k:\n",
        "        for _ in range(count):\n",
        "            num1 = random.randint(10**(count-1), 10**count-1)\n",
        "            num2 = random.randint(10**(count-1), 10**count-1)\n",
        "            items.append((num1, num2))\n",
        "            count += 1\n",
        "            if len(items) == 5000:\n",
        "                break\n",
        "    return items\n",
        "\n",
        "pairs = generate_list(5000)\n",
        "\n",
        "def plot_times(times):\n",
        "    plt.plot(times, 'r', linestyle='-')\n",
        "    plt.ylabel('Multiplication runtime')\n",
        "    plt.xlabel('Number of digits')\n",
        "    plt.yscale('log')\n",
        "    plt.yticks([])\n",
        "    plt.show()\n",
        "\n",
        "print(pairs[:5])\n",
        "\n",
        "runtimes = []\n",
        "\n",
        "for pair in pairs:\n",
        "    start = time.time()\n",
        "    result = pair[0] * pair[1]\n",
        "    runtimes.append(time.time() - start)\n",
        "\n",
        "plot_times(runtimes)"
      ]
    },
    {
      "cell_type": "markdown",
      "metadata": {
        "id": "qMwhG01GD_kJ"
      },
      "source": [
        "___\n",
        "## Instructions .8\n",
        "\n",
        "### A list named random_strings that contains a list of randomly generated strings is available to you.\n",
        "\n",
        "### Two functions are also provided for you. The `concat_with_add()` function concatenates strings using the + operator while `concat_with_join()` uses `str.join()`. You task is to time both functions on the provided word_list.\n",
        "\n",
        "- Run the provided code to print the words. This is to see the first 5 elements of random_strings.\n",
        "- Import the time module.\n",
        "- Measure the execution time of `concat_with_add()` over random_strings. To do so:\n",
        "    - Compute the time before calling the function with the `time.time()` function. Assign the result to a variable named start.\n",
        "    - Compute the time after calling the function with the `time.time()` function. Assign the result to a variable named end.\n",
        "    - Compute the execution time by subtracting start from end. Assign the result to time_add.\n",
        "- Perform the same steps to time `concat_with_join()`. Assign the result to time_join.\n",
        "- Print both times and observe which one was faster.\n",
        "\n",
        "#### _Note that timing the execution of a function only once, may not provide a reliable measurement due to potential variability in the system's state. It's therefore advisable to perform multiple runs and compute the average of the measurements for more accuracy._"
      ]
    },
    {
      "cell_type": "code",
      "execution_count": 9,
      "metadata": {
        "colab": {
          "base_uri": "https://localhost:8080/"
        },
        "id": "zSQytlYBD_kJ",
        "outputId": "01235998-cf5f-429b-9aac-7774d970b4c4"
      },
      "outputs": [
        {
          "output_type": "stream",
          "name": "stdout",
          "text": [
            "['NsaprR579i', 'bxtiYNq1Ms', '97AAQSh902', '0YKEqxXoBK', 'jwjynn3z2w']\n",
            "Add runtime: 0.04320883750915527\n",
            "Join runtime: 0.0026488304138183594\n"
          ]
        }
      ],
      "source": [
        "def generate_list(k):\n",
        "    result = []\n",
        "    for _ in range(k):\n",
        "        string_length = 10\n",
        "        random_string = ''.join(random.choices(\n",
        "            string.ascii_letters + string.digits, k=string_length))\n",
        "        result.append(random_string)\n",
        "    return result\n",
        "\n",
        "k = 100000\n",
        "random_strings = generate_list(k)\n",
        "\n",
        "def concat_with_add(word_list):\n",
        "    concat = ''\n",
        "    for word in word_list:\n",
        "        concat += word\n",
        "    return concat\n",
        "\n",
        "def concat_with_join(word_list):\n",
        "    return ''.join(word_list)\n",
        "\n",
        "print(random_strings[:5])\n",
        "\n",
        "addStart = time.time()\n",
        "concat_with_add(random_strings)\n",
        "print(f'Add runtime: {time.time() - addStart}')\n",
        "\n",
        "joinStart = time.time()\n",
        "concat_with_join(random_strings)\n",
        "print(f'Join runtime: {time.time() - joinStart}')"
      ]
    },
    {
      "cell_type": "markdown",
      "metadata": {
        "id": "4vd3kTRCD_kJ"
      },
      "source": [
        "___\n",
        "## Instructions .9\n",
        "\n",
        "### The commented experiment from the previous section is provided for you.\n",
        "\n",
        "- Uncomment the provided code. You can do it by selecting the whole code and using the `ctrl + /` shortcut.\n",
        "- In the `concat_with_add()` function, inside the for loop, after `concat += word` create a variable named temp and assign to it the value of concat.\n",
        "- Run the experiment to see how the execution time is degraded."
      ]
    },
    {
      "cell_type": "code",
      "execution_count": 10,
      "metadata": {
        "colab": {
          "base_uri": "https://localhost:8080/"
        },
        "id": "8Qtg7obhD_kK",
        "outputId": "92d097d1-0883-4d8d-ea8d-7a67824ff97b"
      },
      "outputs": [
        {
          "output_type": "stream",
          "name": "stdout",
          "text": [
            "Add with temp variable runtime: 8.931813716888428\n",
            "Join runtime: 0.002807140350341797\n"
          ]
        }
      ],
      "source": [
        "def concat_with_add(word_list):\n",
        "    concat = ''\n",
        "    for word in word_list:\n",
        "        concat += word\n",
        "        temp = concat\n",
        "    return concat\n",
        "\n",
        "def concat_with_join(word_list):\n",
        "    return ''.join(word_list)\n",
        "\n",
        "addStart = time.time()\n",
        "concat_with_add(random_strings)\n",
        "print(f'Add with temp variable runtime: {time.time() - addStart}')\n",
        "\n",
        "joinStart = time.time()\n",
        "concat_with_join(random_strings)\n",
        "print(f'Join runtime: {time.time() - joinStart}')"
      ]
    }
  ],
  "metadata": {
    "kernelspec": {
      "display_name": "Python 3",
      "language": "python",
      "name": "python3"
    },
    "language_info": {
      "codemirror_mode": {
        "name": "ipython",
        "version": 3
      },
      "file_extension": ".py",
      "mimetype": "text/x-python",
      "name": "python",
      "nbconvert_exporter": "python",
      "pygments_lexer": "ipython3",
      "version": "3.12.2"
    },
    "colab": {
      "provenance": []
    }
  },
  "nbformat": 4,
  "nbformat_minor": 0
}