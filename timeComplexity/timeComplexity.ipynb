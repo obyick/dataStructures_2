{
  "cells": [
    {
      "cell_type": "markdown",
      "metadata": {
        "id": "VjThZ7MVDU-6"
      },
      "source": [
        "# Time Complexity"
      ]
    },
    {
      "cell_type": "markdown",
      "metadata": {
        "id": "ROD1fXDbDU-8"
      },
      "source": [
        "## Libraries"
      ]
    },
    {
      "cell_type": "code",
      "execution_count": null,
      "metadata": {
        "id": "rnA0t_9VDU-8"
      },
      "outputs": [],
      "source": [
        "import time                      # time module for time functions\n",
        "import random                    # random module for generating random numbers\n",
        "import matplotlib.pyplot as plt  # pyplot module for data visualization"
      ]
    },
    {
      "cell_type": "markdown",
      "metadata": {
        "id": "GwauK7-JDU-9"
      },
      "source": [
        "___\n",
        "## Instructions .1, .2 and .3\n",
        "\n",
        "### 1. An empty function, `maximum()`, is provided for you. Your goal is to implement it so that it returns the maximum value in the values list that is given as argument. Start by assigning the list `[4, 3, 5, 6, 2, 1]` to a variable `test_values` before the empty function.\n",
        "\n",
        "- Erase the pass statement and follow these steps to implement the `maximum()` function.\n",
        "- Initialize a variable named answer to None. This variable will be used to keep track of the maximum.\n",
        "- Do a for loop over values using variable value. For each value do:\n",
        "  - If answer is None or the answer is smaller than value, assign value to answer.\n",
        "- After the for loop, return the value of answer.\n",
        "- Execute your function on `test_values`. Assign the result to a variable named max_value.\n",
        "\n",
        "### 2. The `maximum()` function from the previous screen is provided to you. Follow these steps to measure its execution time on the provided `test_values` list, which now contains 500 values.\n",
        "\n",
        "- Import the time module.\n",
        "- Use the `time.time()` function to compute the number of seconds just before you execute `maximum()`. Assign the result to a variable named start.\n",
        "- Call the `maximum()` function on `test_values`. Assign the result to a variable named max_value.\n",
        "- Use the `time.time()` function to compute the number of seconds just after `maximum()` finished executing. Assign the result to a variable named end.\n",
        "- Compute the difference between these two values. Assign it to a variable named runtime.\n",
        "\n",
        "### 3. Some code has been provided for you. Follow these steps to measure the execution time of `maximum()` on random input lists of length 1 to 500:\n",
        "\n",
        "- Create an empty list named times. This list will be used to collect all execution times.\n",
        "- Do a for loop over `range(1, 501)` with a variable named length. For each length value inside the loop:\n",
        "  - Generate a random list by calling gen_input(length). Assign the result to a variable named values.\n",
        "  - Using the `time.time()` function, measure the time before calling the `maximum()` function. Assign the result to a variable named start.\n",
        "  - Execute the function `maximum()` on the generated values list. You don't need to keep the result of the function.\n",
        "  - Using the `time.time()` function, measure the time after calling the `maximum()` function. Assign the result to a variable named end.\n",
        "  - Compute the execution time by computing the difference between end and start.\n",
        "  - Append the execution time to the times list.\n",
        "- Print the value of times to observe that it increases as the length of the list increases."
      ]
    },
    {
      "cell_type": "markdown",
      "metadata": {
        "id": "r5iiM8WIDU-9"
      },
      "source": [
        "### Random Values"
      ]
    },
    {
      "cell_type": "code",
      "execution_count": null,
      "metadata": {
        "id": "CsL7ef2IDU--"
      },
      "outputs": [],
      "source": [
        "def gen_input(length):\n",
        "    return [random.randint(-1000, 1000) for _ in range(length)]"
      ]
    },
    {
      "cell_type": "markdown",
      "metadata": {
        "id": "QOVGYY0oDU--"
      },
      "source": [
        "### Max Value"
      ]
    },
    {
      "cell_type": "code",
      "execution_count": null,
      "metadata": {
        "colab": {
          "base_uri": "https://localhost:8080/"
        },
        "id": "WICh_oljDU--",
        "outputId": "656290ee-5586-45e8-f741-428f2b935466"
      },
      "outputs": [
        {
          "output_type": "execute_result",
          "data": {
            "text/plain": [
              "6"
            ]
          },
          "metadata": {},
          "execution_count": 10
        }
      ],
      "source": [
        "def maximum(values):\n",
        "    max = None\n",
        "    for value in values:\n",
        "        if max is None or value > max:\n",
        "            max = value\n",
        "    return max\n",
        "\n",
        "maximum([4, 3, 5, 6, 2, 1])"
      ]
    },
    {
      "cell_type": "markdown",
      "metadata": {
        "id": "eT6kR3FeDU--"
      },
      "source": [
        "### Max Value Runtime Result"
      ]
    },
    {
      "cell_type": "code",
      "execution_count": null,
      "metadata": {
        "colab": {
          "base_uri": "https://localhost:8080/"
        },
        "id": "jRFKa0CPDU-_",
        "outputId": "aaf0c926-5b5d-49e5-8c16-597dcccabf88"
      },
      "outputs": [
        {
          "output_type": "stream",
          "name": "stdout",
          "text": [
            "When using a list of size 1, the corresponding runtime is 5.7220458984375e-06\n"
          ]
        }
      ],
      "source": [
        "runtimes = []\n",
        "\n",
        "for length in range(1, 501):\n",
        "    start = time.time()\n",
        "    maximum(gen_input(length))\n",
        "    runtimes.append(time.time() - start)\n",
        "\n",
        "for length in range(1, 501):\n",
        "    if runtimes[length] != 0:\n",
        "        print(f\"When using a list of size {length}, the corresponding runtime is {runtimes[length]}\")\n",
        "        break"
      ]
    },
    {
      "cell_type": "markdown",
      "metadata": {
        "id": "5cEa_7e3DU-_"
      },
      "source": [
        "___\n",
        "## Instructions 4.\n",
        "\n",
        "### Some code has been provided for you. This includes the `sum_values()` function as well as a `plot_times()` function that can be used to plot the execution times. Don't worry if you don't know how to plot values. For now, you can use this function, which will do the job for you. It takes a list of numeric values as input and makes a plot with them.\n",
        "\n",
        "### Follow these steps to measure the execution time of `sum_values()` on random inputs from size 1 to 500.\n",
        "\n",
        "- Create an empty list named times. This list will be used to collect all execution times.\n",
        "- Do a for loop over `range(1, 501)` with a variable named length. Next, do the following inside that loop for each length value:\n",
        "    - Generate a random input by calling the `gen_input()` function on the current value of length. Assign the result to a variable named values.\n",
        "    - Using the `time.time()` function, measure the time before calling the `sum_values()` function. Assign the result to a variable named start.\n",
        "    - Execute the function `sum_values()` on the generated values list. We don't care about the result, you don't need to store it into a variable.\n",
        "    - Using the `time.time()` function, measure the time after calling the `sum_values()` function. Assign the result to a variable named end.\n",
        "    - Compute the execution time as the difference between end and start. Append the result to the times list.\n",
        "- To see the plot and check whether it matches our theoretical prediction that the execution time is growing linearly, run the code `plot_times(times)`."
      ]
    },
    {
      "cell_type": "code",
      "execution_count": null,
      "metadata": {
        "colab": {
          "base_uri": "https://localhost:8080/",
          "height": 489
        },
        "id": "4Wj2yEtZDU-_",
        "outputId": "9b5d080f-9c4c-49ae-f79e-6496d65cc449"
      },
      "outputs": [
        {
          "output_type": "stream",
          "name": "stdout",
          "text": [
            "When using a list of size 1, the corresponding runtime is 5.7220458984375e-06\n"
          ]
        },
        {
          "output_type": "display_data",
          "data": {
            "text/plain": [
              "<Figure size 640x480 with 1 Axes>"
            ],
            "image/png": "[encoded data removed]"
          },
          "metadata": {}
        }
      ],
      "source": [
        "def sum_values(values):\n",
        "    total = 0\n",
        "    for value in values:\n",
        "        total += value\n",
        "    return total\n",
        "\n",
        "def plot_times(times):\n",
        "    plt.plot(times, 'r', linestyle='-')\n",
        "    plt.title('Time Complexity')\n",
        "    plt.ylabel('Runtime')\n",
        "    plt.xlabel('Size')\n",
        "    plt.show()\n",
        "\n",
        "runtimes = []\n",
        "\n",
        "for length in range(1, 501):\n",
        "    start = time.time()\n",
        "    sum_values(gen_input(length))\n",
        "    runtimes.append(time.time() - start)\n",
        "\n",
        "for length in range(1, 501):\n",
        "    if runtimes[length] != 0:\n",
        "        print(f\"When using a list of size {length}, the corresponding runtime is {runtimes[length]}\")\n",
        "        break\n",
        "\n",
        "plot_times(runtimes)"
      ]
    },
    {
      "cell_type": "markdown",
      "metadata": {
        "id": "llact6tBDU_A"
      },
      "source": [
        "___\n",
        "## Instructions 5.\n",
        "\n",
        "### A function `count_zeros()` has been provided for you together with three execution time models. Constant execution times have been assigned to each line.\n",
        "\n",
        "- Count how many times each line is executed as a function of the length of values, `N`.\n",
        "- Multiply those by the constants and add them together. Group the terms together, those with `N` and those without it.\n",
        "- Assign to a variable named correct the model that correctly expresses the worst-case execution time of the `count_zeros()` function.\n",
        "\n",
        "### For example, if you think that model1 is correct, then assign model1 to variable correct."
      ]
    },
    {
      "cell_type": "code",
      "execution_count": null,
      "metadata": {
        "id": "IncY2hNJDU_A"
      },
      "outputs": [],
      "source": [
        "def count_zeros(values):\n",
        "    count = 0             # c1\n",
        "    for value in values:  # c2\n",
        "        if value == 0:    # c3\n",
        "            count += 1    # c4\n",
        "    return count          # c5\n",
        "\n",
        "model1 = '(c1 + c2)n + (c3 + c4 + c5)'\n",
        "model2 = '(c2 + c3)n + (c1 + c4 + c5)'\n",
        "model3 = '(c2 + c3 + c4)n + (c1 + c5)'   # Correct model\n",
        "\n",
        "correct = model3"
      ]
    },
    {
      "cell_type": "markdown",
      "metadata": {
        "id": "TyEHtDe8DU_A"
      },
      "source": [
        "### Worst-case occurrences for each line of the function:\n",
        "- _c1_ = 1\n",
        "- _c2_ = n\n",
        "- _c3_ = n\n",
        "- _c4_ = n\n",
        "- _c5_ = 1\n",
        "\n",
        "### Thus, the equation representing the time complexity of this function is:\n",
        "- _`(c1 + c5) + (c2n) + (c3n) + (c4n)`_ = _`n(c2 + c3 + c4) + (c1 + c5)`_\n",
        "\n",
        "### Therefore:\n",
        "- _Coefficients = `[3, 2]`_\n",
        "- _Order = `O(N)`_\n",
        "\n",
        "### Considering:\n",
        "- _c2_ + _c3_ + _c4_ = `α`\n",
        "- _c1_ + _c5_ = `β`\n",
        "\n",
        "### The model can be expressed as:\n",
        "- _`αn + β`_"
      ]
    },
    {
      "cell_type": "markdown",
      "metadata": {
        "id": "xf6G6I2KDU_B"
      },
      "source": [
        "___\n",
        "## Instructions 6.\n",
        "\n",
        "### A function `sum_pairs()` has been provided for you together with three execution time models. This function calculates the sum of all pairs of values in a given list.\n",
        "\n",
        "### Constant execution times have been assigned to each line.\n",
        "\n",
        "- Count how many times each line is executed as a function of the length of values, `N`.\n",
        "- Multiply those by the constants and add them together.\n",
        "- Group the terms together, those with `N` and those without it.\n",
        "- Assign to a variable named correct the model that correctly expresses the worst-case execution time of the `sum_pairs()` function.\n",
        "\n",
        "### For example, if you think that model1 is correct, then assign model1 to variable correct."
      ]
    },
    {
      "cell_type": "code",
      "execution_count": null,
      "metadata": {
        "id": "uhYdpxwwDU_B"
      },
      "outputs": [],
      "source": [
        "def sum_pairs(values):\n",
        "    pair_sums = 0              # c1\n",
        "    for x in values:           # c2\n",
        "        for y in values:       # c3\n",
        "            pair_sums += x + y  # c4\n",
        "    return pair_sums           # c5\n",
        "\n",
        "model1 = '(c3 + c4)n² + c2n + (c1 + c5)'  # Correct model\n",
        "model2 = 'c4n² + (c2 + c3)n + (c1 + c5)'\n",
        "model3 = '(c2 + c3 + c4)n² + (c1 + c5)'\n",
        "\n",
        "correct = model1"
      ]
    },
    {
      "cell_type": "markdown",
      "metadata": {
        "id": "jbZHgxhiDU_B"
      },
      "source": [
        "### Worst-case occurrences for each line of the function:\n",
        "- _c1_ = 1\n",
        "- _c2_ = n\n",
        "- _c3_ = n • n\n",
        "- _c4_ = n • n\n",
        "- _c5_ = 1\n",
        "\n",
        "### Thus, the equation representing the time complexity of this function is:\n",
        "- _`(c1 + c5) + (c2n) + (c3n • n) + (c4n • n)`_ = _`n²(c3 + c4) + n(c2) + (c1 + c5)`_\n",
        "\n",
        "### Therefore:\n",
        "- _Coefficients = `[2, 1, 2]`_\n",
        "- _Order = `O(N²)`_\n",
        "\n",
        "### Considering:\n",
        "- _c3_ + _c4_ = `α`\n",
        "- _c2_ = `β`\n",
        "- _c1_ + _c5_ = `γ`\n",
        "\n",
        "### The model can be expressed as:\n",
        "- _`αn² + βn + γ`_"
      ]
    },
    {
      "cell_type": "markdown",
      "metadata": {
        "id": "U9lLppCQDU_B"
      },
      "source": [
        "___\n",
        "## Instructions 7.\n",
        "\n",
        "### The expression for the number of line executions of three functions have been provided as strings in variables `time1`, `time2` and `time3`.\n",
        "\n",
        "- Define a variable named `O1` and assign to it a string representing the order of the function contained in `time1`. For example, if you think that this function is order of N5 then assign the string O(N^5) to `O1`.\n",
        "- Do the same for `time2` and assign your answer to `O2`.\n",
        "- Do the same for `time3` and assign your answer to `O3`.\n",
        "\n",
        "### For answer checking purposes, do not put space characters in your answers."
      ]
    },
    {
      "cell_type": "code",
      "execution_count": null,
      "metadata": {
        "id": "e_x_IzesDU_B"
      },
      "outputs": [],
      "source": [
        "time1 = 'N^4 + N^2 + 1'\n",
        "time2 = '7 * N^3 + 0.5 * N^2 + 100'\n",
        "time3 = 'N^2 + 10000 * N + 999'\n",
        "\n",
        "O1 = 'N^4'\n",
        "O2 = 'N^3'\n",
        "O3 = 'N^2'"
      ]
    },
    {
      "cell_type": "markdown",
      "metadata": {
        "id": "kWrqhV-EDU_C"
      },
      "source": [
        "___\n",
        "## Instructions 8.\n",
        "\n",
        "### A function named `count_triples()` has be provided for you. Your task is to analyze its time complexity.\n",
        "\n",
        "- Count how many times each line is executed in the worst case.\n",
        "- Add the values together as we have been doing so far and group the terms together to obtain an expression for `time(N)` where `N` is the size of the input list.\n",
        "- Assign to a list named coefficients the constant coefficients of the terms of `time(N)` from highest to the lowest. The coefficient of a non-existing term is 0."
      ]
    },
    {
      "cell_type": "code",
      "execution_count": null,
      "metadata": {
        "id": "KZZu0RrgDU_C"
      },
      "outputs": [],
      "source": [
        "def count_triples(values):\n",
        "    count = 0                                               # c1\n",
        "    n = len(values)                                         # c2\n",
        "    for i in range(n):                                      # c3\n",
        "        for j in range(n):                                  # c4\n",
        "            for k in range(n):                              # c5\n",
        "                if values[i] + values[j] + values[k] == 0:  # c6\n",
        "                    count += 1                              # c7\n",
        "    return count                                            # c8"
      ]
    },
    {
      "cell_type": "markdown",
      "metadata": {
        "id": "fbANDHQkDU_C"
      },
      "source": [
        "### Worst-case occurrences for each line of the function:\n",
        "- _c1_ = 1\n",
        "- _c2_ = 1\n",
        "- _c3_ = n\n",
        "- _c4_ = n • n\n",
        "- _c5_ = n • n • n\n",
        "- _c6_ = n • n • n\n",
        "- _c7_ = n • n • n\n",
        "- _c8_ = 1\n",
        "\n",
        "### Thus, the equation representing the time complexity of this function is:\n",
        "- _`(c1 + c2) + (c3n) + (c4n • n) + (c5n • n • n) + (c6n • n • n) + (c7n • n • n) + (c8)`_ = _`n³(c5 + c6 + c7) + n²(c4) + n(c3) + (c1 + c2 + c8)`_\n",
        "\n",
        "### Therefore:\n",
        "- _Coefficients = `[3, 1, 1, 3]`_\n",
        "- _Order = `O(N³)`_\n",
        "\n",
        "### Considering:\n",
        "- _c5_ + _c6_ + _c7_ = `α`\n",
        "- _c1_ + _c2_ + _c8_ = `δ`\n",
        "- _c4_ = `β`\n",
        "- _c3_ = `γ`\n",
        "\n",
        "### The model can be expressed as:\n",
        "- _`αn³ + βn² + γn + δ`_"
      ]
    }
  ],
  "metadata": {
    "kernelspec": {
      "display_name": "Python 3",
      "language": "python",
      "name": "python3"
    },
    "language_info": {
      "codemirror_mode": {
        "name": "ipython",
        "version": 3
      },
      "file_extension": ".py",
      "mimetype": "text/x-python",
      "name": "python",
      "nbconvert_exporter": "python",
      "pygments_lexer": "ipython3",
      "version": "3.12.2"
    },
    "colab": {
      "provenance": []
    }
  },
  "nbformat": 4,
  "nbformat_minor": 0
}